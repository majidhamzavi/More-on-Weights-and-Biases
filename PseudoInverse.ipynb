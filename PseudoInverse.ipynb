{
 "cells": [
  {
   "cell_type": "code",
   "execution_count": 1,
   "metadata": {},
   "outputs": [],
   "source": [
    "#Pseudoinverse\n",
    "import numpy as np\n",
    "from scipy.special import logit"
   ]
  },
  {
   "cell_type": "code",
   "execution_count": 2,
   "metadata": {},
   "outputs": [],
   "source": [
    "# Activation functions\n",
    "def ReLU(x):\n",
    "    return x * (x > 0)\n",
    "\n",
    "def Sig(x):\n",
    "    return 1/(1+np.exp(-x))\n",
    "\n",
    "def onehot(X):\n",
    "    T = np.zeros((X.shape[0],np.max(X)+1))\n",
    "    T[np.arange(len(X)),X] = 1 #Set T[i,X[i]] to 1\n",
    "    return T\n",
    "\n",
    "# feed forward function\n",
    "def ff(w0,w1,w2,b0,b1,b2,x):\n",
    "    # First Hidden calculations\n",
    "    h0 = x.dot(w0)+ b0 \n",
    "    h0 = ReLU(h0)\n",
    " \n",
    "  # Second Hidden calculations\n",
    "    h1 = h0.dot(w1) + b1\n",
    "    h1 = ReLU(h1)\n",
    "\n",
    "  # output calculations\n",
    "    ff = h1.dot(w2) + b2\n",
    "    ff = Sig(ff)\n",
    "    return ff"
   ]
  },
  {
   "cell_type": "code",
   "execution_count": 3,
   "metadata": {},
   "outputs": [],
   "source": [
    "# data preprocessing\n",
    "    # train data\n",
    "xtrain = np.loadtxt('xtrain.txt', delimiter=',')\n",
    "xtrain /= 255\n",
    "ytrain = np.loadtxt('ytrain.txt', delimiter=',').astype(int)\n",
    "ytrain = onehot(ytrain)\n",
    "   #test data\n",
    "xtest = np.loadtxt('xtest.txt', delimiter=',')\n",
    "xtest /= 255\n",
    "ytest = np.loadtxt('ytest.txt', delimiter=',').astype(int)"
   ]
  },
  {
   "cell_type": "code",
   "execution_count": 4,
   "metadata": {},
   "outputs": [],
   "source": [
    "# randomly-chosen set of weights and biase\n",
    "s = 0.2\n",
    "W0 = (np.random.rand(784,512)-0.5)*s\n",
    "W1 = (np.random.rand(512,512)-0.5)*s\n",
    "\n",
    "B0 = (np.random.rand(512,)-0.5)*s\n",
    "B1 = (np.random.rand(512,)-0.5)*s"
   ]
  },
  {
   "cell_type": "code",
   "execution_count": 5,
   "metadata": {},
   "outputs": [],
   "source": [
    "# WieghtsPseudoinvers\n",
    "H0 = ReLU(xtrain.dot(W0) + B0)\n",
    "H1 = ReLU(H0.dot(W1) + B1)\n",
    "ytrain_transformed = ytrain * 0.9 + 0.05\n",
    "Y_l = logit(ytrain_transformed)\n",
    "B2 = np.mean(Y_l,0)\n",
    "W2 = np.linalg.pinv(H1).dot(Y_l - B2)"
   ]
  },
  {
   "cell_type": "code",
   "execution_count": 8,
   "metadata": {},
   "outputs": [
    {
     "name": "stdout",
     "output_type": "stream",
     "text": [
      "accuracy: 91.3 %\n"
     ]
    }
   ],
   "source": [
    "# test \n",
    "Output = ff(W0,W1,W2,B0,B1,B2,xtest)\n",
    "Output = np.argmax(Output, axis = 1)\n",
    "\n",
    "\n",
    "#ytrain1 = np.loadtxt('ytrain.txt', delimiter=',').astype(int)\n",
    "accuracy = ((np.count_nonzero(Output==ytest))/10000)*100   \n",
    "print('accuracy:', round(accuracy,2), '%')"
   ]
  },
  {
   "cell_type": "code",
   "execution_count": 7,
   "metadata": {},
   "outputs": [
    {
     "name": "stdout",
     "output_type": "stream",
     "text": [
      "[[ 952    0   12    2    0   14    9    5   11    8]\n",
      " [   1 1123    8    4    8    7    3   18    6    8]\n",
      " [   3    2  906   22    6    2    5   18    7    3]\n",
      " [   3    1   17  916    1   30    2    1   24    4]\n",
      " [   2    0   12    4  891   13   12   13   17   49]\n",
      " [   3    1    4   17    4  767   10    6   21   11]\n",
      " [   9    4   13    4   14   18  912    2   12    8]\n",
      " [   3    1   21   17    3   12    1  937    9   33]\n",
      " [   4    3   35   13    9   22    4    3  849    8]\n",
      " [   0    0    4   11   46    7    0   25   18  877]]\n"
     ]
    }
   ],
   "source": [
    "# Making the Confusion Matrix\n",
    "from sklearn.metrics import confusion_matrix        \n",
    "cm = confusion_matrix(Output, ytest)\n",
    "print(cm)"
   ]
  }
 ],
 "metadata": {
  "kernelspec": {
   "display_name": "Python 3",
   "language": "python",
   "name": "python3"
  },
  "language_info": {
   "codemirror_mode": {
    "name": "ipython",
    "version": 3
   },
   "file_extension": ".py",
   "mimetype": "text/x-python",
   "name": "python",
   "nbconvert_exporter": "python",
   "pygments_lexer": "ipython3",
   "version": "3.7.4"
  }
 },
 "nbformat": 4,
 "nbformat_minor": 2
}
